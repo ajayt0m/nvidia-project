{
 "cells": [
  {
   "cell_type": "code",
   "execution_count": 2,
   "metadata": {},
   "outputs": [
    {
     "name": "stdout",
     "output_type": "stream",
     "text": [
      "Products:\n",
      "(1, 'RTX 4090', 'GPU', '2023-01-15', 1599.99)\n",
      "(2, 'RTX 4080', 'GPU', '2022-11-16', 1199.99)\n",
      "(3, 'RTX 4070', 'GPU', '2023-03-08', 599.99)\n",
      "(4, 'Jetson Nano', 'AI Accelerator', '2022-05-20', 99.99)\n",
      "(5, 'Jetson AGX Orin', 'AI Accelerator', '2023-06-10', 1999.99)\n",
      "(6, 'DGX Station', 'Server', '2023-08-01', 8999.99)\n",
      "(7, 'A100 Tensor Core', 'AI Accelerator', '2021-07-15', 14999.99)\n",
      "(8, 'H100 Tensor Core', 'AI Accelerator', '2022-10-10', 19999.99)\n",
      "(9, 'GeForce GTX 1660', 'GPU', '2019-02-22', 279.99)\n",
      "(10, 'Titan V', 'GPU', '2017-12-07', 2999.99)\n",
      "\n",
      "Customers:\n",
      "(1, 'Tech Corp', 'Gaming', 'contact@techcorp.com', '123-456-7890')\n",
      "(2, 'AI Labs', 'Research', 'info@ailabs.org', '987-654-3210')\n",
      "(3, 'Data Solutions', 'Data Centers', 'support@datasolutions.com', '555-678-9101')\n",
      "(4, 'GameZone', 'Gaming', 'support@gamezone.net', '789-456-1230')\n",
      "(5, 'DeepVision', 'AI Research', 'info@deepvision.ai', '123-123-1234')\n",
      "(6, 'ComputePro', 'Data Centers', 'contact@computepro.com', '321-321-4321')\n",
      "(7, 'E-Sports World', 'Gaming', 'support@esportsworld.com', '654-987-6543')\n",
      "(8, 'Quantum AI', 'Research', 'info@quantumai.net', '555-123-4567')\n",
      "(9, 'Pixel Masters', 'Gaming', 'support@pixelmasters.com', '789-789-7890')\n",
      "(10, 'Global Cloud', 'Data Centers', 'support@globalcloud.com', '987-987-9876')\n",
      "\n",
      "Sales:\n",
      "(1, 1, 1, '2024-01-10', 'North America', 100, 159999.0)\n",
      "(2, 2, 4, '2024-01-12', 'Europe', 200, 239998.0)\n",
      "(3, 3, 5, '2024-01-15', 'Asia', 150, 89998.5)\n",
      "(4, 4, 2, '2024-01-20', 'North America', 300, 29997.0)\n",
      "(5, 5, 3, '2024-01-25', 'Europe', 80, 159999.2)\n",
      "(6, 6, 6, '2024-01-30', 'Asia', 20, 179999.8)\n"
     ]
    }
   ],
   "source": [
    "import sqlite3\n",
    "\n",
    "# Connect to the database\n",
    "conn = sqlite3.connect('nvidia_database.db')\n",
    "cursor = conn.cursor()\n",
    "\n",
    "# Example query to retrieve all products\n",
    "cursor.execute(\"SELECT * FROM products;\")\n",
    "products = cursor.fetchall()\n",
    "\n",
    "# Print the results\n",
    "print(\"Products:\")\n",
    "for product in products:\n",
    "    print(product)\n",
    "\n",
    "# Example query to retrieve all customers\n",
    "cursor.execute(\"SELECT * FROM customers;\")\n",
    "customers = cursor.fetchall()\n",
    "\n",
    "# Print the results\n",
    "print(\"\\nCustomers:\")\n",
    "for customer in customers:\n",
    "    print(customer)\n",
    "\n",
    "# Example query to retrieve all sales\n",
    "cursor.execute(\"SELECT * FROM sales;\")\n",
    "sales = cursor.fetchall()\n",
    "\n",
    "# Print the results\n",
    "print(\"\\nSales:\")\n",
    "for sale in sales:\n",
    "    print(sale)\n",
    "\n",
    "# Close the connection\n",
    "conn.close()"
   ]
  }
 ],
 "metadata": {
  "kernelspec": {
   "display_name": "base",
   "language": "python",
   "name": "python3"
  },
  "language_info": {
   "codemirror_mode": {
    "name": "ipython",
    "version": 3
   },
   "file_extension": ".py",
   "mimetype": "text/x-python",
   "name": "python",
   "nbconvert_exporter": "python",
   "pygments_lexer": "ipython3",
   "version": "3.9.13"
  }
 },
 "nbformat": 4,
 "nbformat_minor": 2
}
