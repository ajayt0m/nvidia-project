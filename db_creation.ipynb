{
 "cells": [
  {
   "cell_type": "code",
   "execution_count": 1,
   "metadata": {},
   "outputs": [],
   "source": [
    "import sqlite3"
   ]
  },
  {
   "cell_type": "code",
   "execution_count": 2,
   "metadata": {},
   "outputs": [],
   "source": [
    "# Create a connection to SQLite database\n",
    "conn = sqlite3.connect('nvidia_database.db')\n",
    "cursor = conn.cursor()"
   ]
  },
  {
   "cell_type": "code",
   "execution_count": 3,
   "metadata": {},
   "outputs": [],
   "source": [
    "# 1. Create tables\n",
    "cursor.executescript('''\n",
    "-- Create products table\n",
    "CREATE TABLE IF NOT EXISTS products (\n",
    "    product_id INTEGER PRIMARY KEY AUTOINCREMENT,\n",
    "    product_name TEXT NOT NULL,\n",
    "    category TEXT NOT NULL,\n",
    "    release_date DATE,\n",
    "    price REAL\n",
    ");\n",
    "\n",
    "-- Create customers table\n",
    "CREATE TABLE IF NOT EXISTS customers (\n",
    "    customer_id INTEGER PRIMARY KEY AUTOINCREMENT,\n",
    "    customer_name TEXT NOT NULL,\n",
    "    industry TEXT,\n",
    "    contact_email TEXT,\n",
    "    contact_phone TEXT\n",
    ");\n",
    "\n",
    "-- Create sales table\n",
    "CREATE TABLE IF NOT EXISTS sales (\n",
    "    sale_id INTEGER PRIMARY KEY AUTOINCREMENT,\n",
    "    product_id INTEGER,\n",
    "    customer_id INTEGER,\n",
    "    sale_date DATE,\n",
    "    region TEXT,\n",
    "    quantity_sold INTEGER,\n",
    "    revenue REAL,\n",
    "    FOREIGN KEY (product_id) REFERENCES products (product_id),\n",
    "    FOREIGN KEY (customer_id) REFERENCES customers (customer_id)\n",
    ");\n",
    "\n",
    "-- Create suppliers table\n",
    "CREATE TABLE IF NOT EXISTS suppliers (\n",
    "    supplier_id INTEGER PRIMARY KEY AUTOINCREMENT,\n",
    "    supplier_name TEXT NOT NULL,\n",
    "    material_supplied TEXT NOT NULL,\n",
    "    contact_email TEXT\n",
    ");\n",
    "\n",
    "-- Create supply_chain table\n",
    "CREATE TABLE IF NOT EXISTS supply_chain (\n",
    "    supply_chain_id INTEGER PRIMARY KEY AUTOINCREMENT,\n",
    "    supplier_id INTEGER,\n",
    "    product_id INTEGER,\n",
    "    supply_date DATE,\n",
    "    quantity_supplied INTEGER,\n",
    "    FOREIGN KEY (supplier_id) REFERENCES suppliers (supplier_id),\n",
    "    FOREIGN KEY (product_id) REFERENCES products (product_id)\n",
    ");\n",
    "\n",
    "-- Create departments table\n",
    "CREATE TABLE IF NOT EXISTS departments (\n",
    "    department_id INTEGER PRIMARY KEY AUTOINCREMENT,\n",
    "    department_name TEXT NOT NULL,\n",
    "    location TEXT\n",
    ");\n",
    "\n",
    "-- Create employees table\n",
    "CREATE TABLE IF NOT EXISTS employees (\n",
    "    employee_id INTEGER PRIMARY KEY AUTOINCREMENT,\n",
    "    first_name TEXT NOT NULL,\n",
    "    last_name TEXT NOT NULL,\n",
    "    department_id INTEGER,\n",
    "    hire_date DATE,\n",
    "    salary REAL,\n",
    "    FOREIGN KEY (department_id) REFERENCES departments (department_id)\n",
    ");\n",
    "\n",
    "-- Create projects table\n",
    "CREATE TABLE IF NOT EXISTS projects (\n",
    "    project_id INTEGER PRIMARY KEY AUTOINCREMENT,\n",
    "    project_name TEXT NOT NULL,\n",
    "    department_id INTEGER,\n",
    "    start_date DATE,\n",
    "    end_date DATE,\n",
    "    budget REAL,\n",
    "    FOREIGN KEY (department_id) REFERENCES departments (department_id)\n",
    ");\n",
    "''')\n",
    "\n",
    "# Commit table creation\n",
    "conn.commit()"
   ]
  },
  {
   "cell_type": "code",
   "execution_count": 4,
   "metadata": {},
   "outputs": [],
   "source": [
    "# 2. Populate tables with sample data\n",
    "# Define sample data for each table\n",
    "products_data = [\n",
    "    ('RTX 4090', 'GPU', '2023-01-15', 1599.99),\n",
    "    ('RTX 4080', 'GPU', '2022-11-16', 1199.99),\n",
    "    ('RTX 4070', 'GPU', '2023-03-08', 599.99),\n",
    "    ('Jetson Nano', 'AI Accelerator', '2022-05-20', 99.99),\n",
    "    ('Jetson AGX Orin', 'AI Accelerator', '2023-06-10', 1999.99),\n",
    "    ('DGX Station', 'Server', '2023-08-01', 8999.99),\n",
    "    ('A100 Tensor Core', 'AI Accelerator', '2021-07-15', 14999.99),\n",
    "    ('H100 Tensor Core', 'AI Accelerator', '2022-10-10', 19999.99),\n",
    "    ('GeForce GTX 1660', 'GPU', '2019-02-22', 279.99),\n",
    "    ('Titan V', 'GPU', '2017-12-07', 2999.99)\n",
    "]\n",
    "\n",
    "customers_data = [\n",
    "    ('Tech Corp', 'Gaming', 'contact@techcorp.com', '123-456-7890'),\n",
    "    ('AI Labs', 'Research', 'info@ailabs.org', '987-654-3210'),\n",
    "    ('Data Solutions', 'Data Centers', 'support@datasolutions.com', '555-678-9101'),\n",
    "    ('GameZone', 'Gaming', 'support@gamezone.net', '789-456-1230'),\n",
    "    ('DeepVision', 'AI Research', 'info@deepvision.ai', '123-123-1234'),\n",
    "    ('ComputePro', 'Data Centers', 'contact@computepro.com', '321-321-4321'),\n",
    "    ('E-Sports World', 'Gaming', 'support@esportsworld.com', '654-987-6543'),\n",
    "    ('Quantum AI', 'Research', 'info@quantumai.net', '555-123-4567'),\n",
    "    ('Pixel Masters', 'Gaming', 'support@pixelmasters.com', '789-789-7890'),\n",
    "    ('Global Cloud', 'Data Centers', 'support@globalcloud.com', '987-987-9876')\n",
    "]\n",
    "\n",
    "sales_data = [\n",
    "    (1, 1, '2024-01-10', 'North America', 100, 159999.00),\n",
    "    (2, 4, '2024-01-12', 'Europe', 200, 239998.00),\n",
    "    (3, 5, '2024-01-15', 'Asia', 150, 89998.50),\n",
    "    (4, 2, '2024-01-20', 'North America', 300, 29997.00),\n",
    "    (5, 3, '2024-01-25', 'Europe', 80, 159999.20),\n",
    "    (6, 6, '2024-01-30', 'Asia', 20, 179999.80)\n",
    "]\n",
    "\n",
    "suppliers_data = [\n",
    "    ('SiliconPro', 'Silicon Wafers', 'sales@siliconpro.com'),\n",
    "    ('ChipCo', 'Transistors', 'info@chipco.net'),\n",
    "    ('NanoMaterials', 'Copper Wiring', 'contact@nanomaterials.com'),\n",
    "    ('OptiGlass', 'Optical Components', 'support@optiglass.com'),\n",
    "    ('ThermalX', 'Thermal Paste', 'contact@thermalx.com'),\n",
    "    ('FlexCircuits', 'Flexible Circuits', 'info@flexcircuits.com')\n",
    "]\n",
    "\n",
    "supply_chain_data = [\n",
    "    (1, 1, '2023-12-20', 10000),\n",
    "    (2, 2, '2023-12-25', 15000),\n",
    "    (3, 3, '2023-12-30', 12000),\n",
    "    (4, 4, '2024-01-05', 8000),\n",
    "    (5, 5, '2024-01-10', 5000),\n",
    "    (6, 6, '2024-01-15', 2000)\n",
    "]\n",
    "\n",
    "departments_data = [\n",
    "    ('R&D', 'Santa Clara'),\n",
    "    ('Sales', 'New York'),\n",
    "    ('Operations', 'Austin'),\n",
    "    ('Marketing', 'Los Angeles'),\n",
    "    ('HR', 'Seattle')\n",
    "]\n",
    "\n",
    "employees_data = [\n",
    "    ('Alice', 'Johnson', 1, '2020-06-15', 120000),\n",
    "    ('Bob', 'Smith', 2, '2021-03-10', 85000),\n",
    "    ('Charlie', 'Brown', 3, '2019-11-20', 95000)\n",
    "]\n",
    "\n",
    "projects_data = [\n",
    "    ('AI Chip Development', 1, '2022-01-01', '2024-01-01', 5000000),\n",
    "    ('Global Sales Expansion', 2, '2023-01-01', '2025-01-01', 2000000),\n",
    "    ('Supply Chain Optimization', 3, '2021-01-01', '2023-12-31', 1000000)\n",
    "]"
   ]
  },
  {
   "cell_type": "code",
   "execution_count": 5,
   "metadata": {},
   "outputs": [
    {
     "data": {
      "text/plain": [
       "<sqlite3.Cursor at 0x1a0c6802ab0>"
      ]
     },
     "execution_count": 5,
     "metadata": {},
     "output_type": "execute_result"
    }
   ],
   "source": [
    "# 3. Insert data into tables\n",
    "cursor.executemany('INSERT INTO products (product_name, category, release_date, price) VALUES (?, ?, ?, ?)', products_data)\n",
    "cursor.executemany('INSERT INTO customers (customer_name, industry, contact_email, contact_phone) VALUES (?, ?, ?, ?)', customers_data)\n",
    "cursor.executemany('INSERT INTO sales (product_id, customer_id, sale_date, region, quantity_sold, revenue) VALUES (?, ?, ?, ?, ?, ?)', sales_data)\n",
    "cursor.executemany('INSERT INTO suppliers (supplier_name, material_supplied, contact_email) VALUES (?, ?, ?)', suppliers_data)\n",
    "cursor.executemany('INSERT INTO supply_chain (supplier_id, product_id, supply_date, quantity_supplied) VALUES (?, ?, ?, ?)', supply_chain_data)\n",
    "cursor.executemany('INSERT INTO departments (department_name, location) VALUES (?, ?)', departments_data)\n",
    "cursor.executemany('INSERT INTO employees (first_name, last_name, department_id, hire_date, salary) VALUES (?, ?, ?, ?, ?)', employees_data)\n",
    "cursor.executemany('INSERT INTO projects (project_name, department_id, start_date, end_date, budget) VALUES (?, ?, ?, ?, ?)', projects_data)"
   ]
  },
  {
   "cell_type": "code",
   "execution_count": 6,
   "metadata": {},
   "outputs": [
    {
     "name": "stdout",
     "output_type": "stream",
     "text": [
      "Database populated successfully!\n"
     ]
    }
   ],
   "source": [
    "# Commit changes and close the connection\n",
    "conn.commit()\n",
    "conn.close()\n",
    "\n",
    "print(\"Database populated successfully!\")"
   ]
  },
  {
   "cell_type": "code",
   "execution_count": 7,
   "metadata": {},
   "outputs": [
    {
     "name": "stdout",
     "output_type": "stream",
     "text": [
      "C:\\Users\\imaja\\AppData\\Local\\Programs\\Microsoft VS Code\n"
     ]
    }
   ],
   "source": [
    "import os\n",
    "print(os.getcwd())"
   ]
  }
 ],
 "metadata": {
  "kernelspec": {
   "display_name": "base",
   "language": "python",
   "name": "python3"
  },
  "language_info": {
   "codemirror_mode": {
    "name": "ipython",
    "version": 3
   },
   "file_extension": ".py",
   "mimetype": "text/x-python",
   "name": "python",
   "nbconvert_exporter": "python",
   "pygments_lexer": "ipython3",
   "version": "3.9.13"
  }
 },
 "nbformat": 4,
 "nbformat_minor": 2
}
