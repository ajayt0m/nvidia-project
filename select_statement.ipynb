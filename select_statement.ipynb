{
 "cells": [
  {
   "cell_type": "code",
   "execution_count": 27,
   "metadata": {},
   "outputs": [],
   "source": [
    "# Dowload the .db file and keep it locally"
   ]
  },
  {
   "cell_type": "code",
   "execution_count": 1,
   "metadata": {},
   "outputs": [],
   "source": [
    "# !pip install ipython-sql prettytable (run this if not installed)\n",
    "\n",
    "import prettytable\n",
    "prettytable.DEFAULT = 'DEFAULT'"
   ]
  },
  {
   "cell_type": "code",
   "execution_count": 7,
   "metadata": {},
   "outputs": [
    {
     "name": "stdout",
     "output_type": "stream",
     "text": [
      "Requirement already satisfied: typing_extensions in d:\\softwares\\anaconda\\lib\\site-packages (4.12.2)\n"
     ]
    }
   ],
   "source": [
    "# run this if there is a version mismatch between some of the packages. Specifically, there's an issue with the typing_extensions module.\n",
    "\n",
    "# !pip install --upgrade typing_extensions"
   ]
  },
  {
   "cell_type": "code",
   "execution_count": 2,
   "metadata": {},
   "outputs": [],
   "source": [
    "# !pip install ipython-sql (run this if not installed)\n",
    "%load_ext sql"
   ]
  },
  {
   "cell_type": "code",
   "execution_count": 3,
   "metadata": {},
   "outputs": [],
   "source": [
    "# Connect to the SQLite Database First, use the %sql line magic to connect to your database\n",
    "%sql sqlite:///D:/GitHub/nvidia-project/nvidia_database.db"
   ]
  },
  {
   "cell_type": "markdown",
   "metadata": {},
   "source": [
    "## 2. See all the tables within the database"
   ]
  },
  {
   "cell_type": "code",
   "execution_count": 31,
   "metadata": {},
   "outputs": [
    {
     "name": "stdout",
     "output_type": "stream",
     "text": [
      " * sqlite:///D:/GitHub/nvidia-project/nvidia_database.db\n",
      "Done.\n"
     ]
    },
    {
     "data": {
      "text/html": [
       "<table>\n",
       "    <thead>\n",
       "        <tr>\n",
       "            <th>type</th>\n",
       "            <th>name</th>\n",
       "            <th>tbl_name</th>\n",
       "            <th>rootpage</th>\n",
       "            <th>sql</th>\n",
       "        </tr>\n",
       "    </thead>\n",
       "    <tbody>\n",
       "        <tr>\n",
       "            <td>table</td>\n",
       "            <td>products</td>\n",
       "            <td>products</td>\n",
       "            <td>2</td>\n",
       "            <td>CREATE TABLE products (<br>    product_id INTEGER PRIMARY KEY AUTOINCREMENT,<br>    product_name TEXT NOT NULL,<br>    category TEXT NOT NULL,<br>    release_date DATE,<br>    price REAL<br>)</td>\n",
       "        </tr>\n",
       "        <tr>\n",
       "            <td>table</td>\n",
       "            <td>sqlite_sequence</td>\n",
       "            <td>sqlite_sequence</td>\n",
       "            <td>3</td>\n",
       "            <td>CREATE TABLE sqlite_sequence(name,seq)</td>\n",
       "        </tr>\n",
       "        <tr>\n",
       "            <td>table</td>\n",
       "            <td>customers</td>\n",
       "            <td>customers</td>\n",
       "            <td>4</td>\n",
       "            <td>CREATE TABLE customers (<br>    customer_id INTEGER PRIMARY KEY AUTOINCREMENT,<br>    customer_name TEXT NOT NULL,<br>    industry TEXT,<br>    contact_email TEXT,<br>    contact_phone TEXT<br>)</td>\n",
       "        </tr>\n",
       "        <tr>\n",
       "            <td>table</td>\n",
       "            <td>sales</td>\n",
       "            <td>sales</td>\n",
       "            <td>5</td>\n",
       "            <td>CREATE TABLE sales (<br>    sale_id INTEGER PRIMARY KEY AUTOINCREMENT,<br>    product_id INTEGER,<br>    customer_id INTEGER,<br>    sale_date DATE,<br>    region TEXT,<br>    quantity_sold INTEGER,<br>    revenue REAL,<br>    FOREIGN KEY (product_id) REFERENCES products (product_id),<br>    FOREIGN KEY (customer_id) REFERENCES customers (customer_id)<br>)</td>\n",
       "        </tr>\n",
       "        <tr>\n",
       "            <td>table</td>\n",
       "            <td>suppliers</td>\n",
       "            <td>suppliers</td>\n",
       "            <td>6</td>\n",
       "            <td>CREATE TABLE suppliers (<br>    supplier_id INTEGER PRIMARY KEY AUTOINCREMENT,<br>    supplier_name TEXT NOT NULL,<br>    material_supplied TEXT NOT NULL,<br>    contact_email TEXT<br>)</td>\n",
       "        </tr>\n",
       "        <tr>\n",
       "            <td>table</td>\n",
       "            <td>supply_chain</td>\n",
       "            <td>supply_chain</td>\n",
       "            <td>7</td>\n",
       "            <td>CREATE TABLE supply_chain (<br>    supply_chain_id INTEGER PRIMARY KEY AUTOINCREMENT,<br>    supplier_id INTEGER,<br>    product_id INTEGER,<br>    supply_date DATE,<br>    quantity_supplied INTEGER,<br>    FOREIGN KEY (supplier_id) REFERENCES suppliers (supplier_id),<br>    FOREIGN KEY (product_id) REFERENCES products (product_id)<br>)</td>\n",
       "        </tr>\n",
       "        <tr>\n",
       "            <td>table</td>\n",
       "            <td>departments</td>\n",
       "            <td>departments</td>\n",
       "            <td>8</td>\n",
       "            <td>CREATE TABLE departments (<br>    department_id INTEGER PRIMARY KEY AUTOINCREMENT,<br>    department_name TEXT NOT NULL,<br>    location TEXT<br>)</td>\n",
       "        </tr>\n",
       "        <tr>\n",
       "            <td>table</td>\n",
       "            <td>employees</td>\n",
       "            <td>employees</td>\n",
       "            <td>9</td>\n",
       "            <td>CREATE TABLE employees (<br>    employee_id INTEGER PRIMARY KEY AUTOINCREMENT,<br>    first_name TEXT NOT NULL,<br>    last_name TEXT NOT NULL,<br>    department_id INTEGER,<br>    hire_date DATE,<br>    salary REAL,<br>    FOREIGN KEY (department_id) REFERENCES departments (department_id)<br>)</td>\n",
       "        </tr>\n",
       "        <tr>\n",
       "            <td>table</td>\n",
       "            <td>projects</td>\n",
       "            <td>projects</td>\n",
       "            <td>10</td>\n",
       "            <td>CREATE TABLE projects (<br>    project_id INTEGER PRIMARY KEY AUTOINCREMENT,<br>    project_name TEXT NOT NULL,<br>    department_id INTEGER,<br>    start_date DATE,<br>    end_date DATE,<br>    budget REAL,<br>    FOREIGN KEY (department_id) REFERENCES departments (department_id)<br>)</td>\n",
       "        </tr>\n",
       "    </tbody>\n",
       "</table>"
      ],
      "text/plain": [
       "[('table', 'products', 'products', 2, 'CREATE TABLE products (\\n    product_id INTEGER PRIMARY KEY AUTOINCREMENT,\\n    product_name TEXT NOT NULL,\\n    category TEXT NOT NULL,\\n    release_date DATE,\\n    price REAL\\n)'),\n",
       " ('table', 'sqlite_sequence', 'sqlite_sequence', 3, 'CREATE TABLE sqlite_sequence(name,seq)'),\n",
       " ('table', 'customers', 'customers', 4, 'CREATE TABLE customers (\\n    customer_id INTEGER PRIMARY KEY AUTOINCREMENT,\\n    customer_name TEXT NOT NULL,\\n    industry TEXT,\\n    contact_email TEXT,\\n    contact_phone TEXT\\n)'),\n",
       " ('table', 'sales', 'sales', 5, 'CREATE TABLE sales (\\n    sale_id INTEGER PRIMARY KEY AUTOINCREMENT,\\n    product_id INTEGER,\\n    customer_id INTEGER,\\n    sale_date DATE,\\n    reg ... (40 characters truncated) ...    revenue REAL,\\n    FOREIGN KEY (product_id) REFERENCES products (product_id),\\n    FOREIGN KEY (customer_id) REFERENCES customers (customer_id)\\n)'),\n",
       " ('table', 'suppliers', 'suppliers', 6, 'CREATE TABLE suppliers (\\n    supplier_id INTEGER PRIMARY KEY AUTOINCREMENT,\\n    supplier_name TEXT NOT NULL,\\n    material_supplied TEXT NOT NULL,\\n    contact_email TEXT\\n)'),\n",
       " ('table', 'supply_chain', 'supply_chain', 7, 'CREATE TABLE supply_chain (\\n    supply_chain_id INTEGER PRIMARY KEY AUTOINCREMENT,\\n    supplier_id INTEGER,\\n    product_id INTEGER,\\n    supply_da ... (24 characters truncated) ... upplied INTEGER,\\n    FOREIGN KEY (supplier_id) REFERENCES suppliers (supplier_id),\\n    FOREIGN KEY (product_id) REFERENCES products (product_id)\\n)'),\n",
       " ('table', 'departments', 'departments', 8, 'CREATE TABLE departments (\\n    department_id INTEGER PRIMARY KEY AUTOINCREMENT,\\n    department_name TEXT NOT NULL,\\n    location TEXT\\n)'),\n",
       " ('table', 'employees', 'employees', 9, 'CREATE TABLE employees (\\n    employee_id INTEGER PRIMARY KEY AUTOINCREMENT,\\n    first_name TEXT NOT NULL,\\n    last_name TEXT NOT NULL,\\n    department_id INTEGER,\\n    hire_date DATE,\\n    salary REAL,\\n    FOREIGN KEY (department_id) REFERENCES departments (department_id)\\n)'),\n",
       " ('table', 'projects', 'projects', 10, 'CREATE TABLE projects (\\n    project_id INTEGER PRIMARY KEY AUTOINCREMENT,\\n    project_name TEXT NOT NULL,\\n    department_id INTEGER,\\n    start_date DATE,\\n    end_date DATE,\\n    budget REAL,\\n    FOREIGN KEY (department_id) REFERENCES departments (department_id)\\n)')]"
      ]
     },
     "execution_count": 31,
     "metadata": {},
     "output_type": "execute_result"
    }
   ],
   "source": [
    "%%sql\n",
    "-- Display all the tables in the database\n",
    "SELECT *\n",
    "FROM sqlite_master \n",
    "WHERE type='table'"
   ]
  },
  {
   "cell_type": "code",
   "execution_count": 28,
   "metadata": {},
   "outputs": [
    {
     "name": "stdout",
     "output_type": "stream",
     "text": [
      " * sqlite:///D:/GitHub/nvidia-project/nvidia_database.db\n",
      "Done.\n"
     ]
    },
    {
     "data": {
      "text/html": [
       "<table>\n",
       "    <thead>\n",
       "        <tr>\n",
       "            <th>product_id</th>\n",
       "            <th>product_name</th>\n",
       "            <th>category</th>\n",
       "            <th>release_date</th>\n",
       "            <th>price</th>\n",
       "        </tr>\n",
       "    </thead>\n",
       "    <tbody>\n",
       "        <tr>\n",
       "            <td>1</td>\n",
       "            <td>RTX 4090</td>\n",
       "            <td>GPU</td>\n",
       "            <td>2023-01-15</td>\n",
       "            <td>1599.99</td>\n",
       "        </tr>\n",
       "        <tr>\n",
       "            <td>2</td>\n",
       "            <td>RTX 4080</td>\n",
       "            <td>GPU</td>\n",
       "            <td>2022-11-16</td>\n",
       "            <td>1199.99</td>\n",
       "        </tr>\n",
       "        <tr>\n",
       "            <td>3</td>\n",
       "            <td>RTX 4070</td>\n",
       "            <td>GPU</td>\n",
       "            <td>2023-03-08</td>\n",
       "            <td>599.99</td>\n",
       "        </tr>\n",
       "        <tr>\n",
       "            <td>4</td>\n",
       "            <td>Jetson Nano</td>\n",
       "            <td>AI Accelerator</td>\n",
       "            <td>2022-05-20</td>\n",
       "            <td>99.99</td>\n",
       "        </tr>\n",
       "        <tr>\n",
       "            <td>5</td>\n",
       "            <td>Jetson AGX Orin</td>\n",
       "            <td>AI Accelerator</td>\n",
       "            <td>2023-06-10</td>\n",
       "            <td>1999.99</td>\n",
       "        </tr>\n",
       "        <tr>\n",
       "            <td>6</td>\n",
       "            <td>DGX Station</td>\n",
       "            <td>Server</td>\n",
       "            <td>2023-08-01</td>\n",
       "            <td>8999.99</td>\n",
       "        </tr>\n",
       "        <tr>\n",
       "            <td>7</td>\n",
       "            <td>A100 Tensor Core</td>\n",
       "            <td>AI Accelerator</td>\n",
       "            <td>2021-07-15</td>\n",
       "            <td>14999.99</td>\n",
       "        </tr>\n",
       "        <tr>\n",
       "            <td>8</td>\n",
       "            <td>H100 Tensor Core</td>\n",
       "            <td>AI Accelerator</td>\n",
       "            <td>2022-10-10</td>\n",
       "            <td>19999.99</td>\n",
       "        </tr>\n",
       "        <tr>\n",
       "            <td>9</td>\n",
       "            <td>GeForce GTX 1660</td>\n",
       "            <td>GPU</td>\n",
       "            <td>2019-02-22</td>\n",
       "            <td>279.99</td>\n",
       "        </tr>\n",
       "        <tr>\n",
       "            <td>10</td>\n",
       "            <td>Titan V</td>\n",
       "            <td>GPU</td>\n",
       "            <td>2017-12-07</td>\n",
       "            <td>2999.99</td>\n",
       "        </tr>\n",
       "        <tr>\n",
       "            <td>11</td>\n",
       "            <td>GeForce RTX 3060</td>\n",
       "            <td>GPU</td>\n",
       "            <td>2021-10-01</td>\n",
       "            <td>349.99</td>\n",
       "        </tr>\n",
       "        <tr>\n",
       "            <td>12</td>\n",
       "            <td>GeForce GTX 1080</td>\n",
       "            <td>GPU</td>\n",
       "            <td>2016-05-27</td>\n",
       "            <td>499.99</td>\n",
       "        </tr>\n",
       "        <tr>\n",
       "            <td>13</td>\n",
       "            <td>NVIDIA V100</td>\n",
       "            <td>AI Accelerator</td>\n",
       "            <td>2017-06-10</td>\n",
       "            <td>8000.0</td>\n",
       "        </tr>\n",
       "        <tr>\n",
       "            <td>14</td>\n",
       "            <td>NVIDIA A40</td>\n",
       "            <td>AI Accelerator</td>\n",
       "            <td>2020-09-15</td>\n",
       "            <td>2500.0</td>\n",
       "        </tr>\n",
       "        <tr>\n",
       "            <td>15</td>\n",
       "            <td>NVIDIA Quadro GV100</td>\n",
       "            <td>GPU</td>\n",
       "            <td>2018-04-15</td>\n",
       "            <td>8999.0</td>\n",
       "        </tr>\n",
       "    </tbody>\n",
       "</table>"
      ],
      "text/plain": [
       "[(1, 'RTX 4090', 'GPU', '2023-01-15', 1599.99),\n",
       " (2, 'RTX 4080', 'GPU', '2022-11-16', 1199.99),\n",
       " (3, 'RTX 4070', 'GPU', '2023-03-08', 599.99),\n",
       " (4, 'Jetson Nano', 'AI Accelerator', '2022-05-20', 99.99),\n",
       " (5, 'Jetson AGX Orin', 'AI Accelerator', '2023-06-10', 1999.99),\n",
       " (6, 'DGX Station', 'Server', '2023-08-01', 8999.99),\n",
       " (7, 'A100 Tensor Core', 'AI Accelerator', '2021-07-15', 14999.99),\n",
       " (8, 'H100 Tensor Core', 'AI Accelerator', '2022-10-10', 19999.99),\n",
       " (9, 'GeForce GTX 1660', 'GPU', '2019-02-22', 279.99),\n",
       " (10, 'Titan V', 'GPU', '2017-12-07', 2999.99),\n",
       " (11, 'GeForce RTX 3060', 'GPU', '2021-10-01', 349.99),\n",
       " (12, 'GeForce GTX 1080', 'GPU', '2016-05-27', 499.99),\n",
       " (13, 'NVIDIA V100', 'AI Accelerator', '2017-06-10', 8000.0),\n",
       " (14, 'NVIDIA A40', 'AI Accelerator', '2020-09-15', 2500.0),\n",
       " (15, 'NVIDIA Quadro GV100', 'GPU', '2018-04-15', 8999.0)]"
      ]
     },
     "execution_count": 28,
     "metadata": {},
     "output_type": "execute_result"
    }
   ],
   "source": [
    "%%sql\n",
    "\n",
    "SELECT * FROM products;"
   ]
  },
  {
   "cell_type": "code",
   "execution_count": 33,
   "metadata": {},
   "outputs": [
    {
     "name": "stdout",
     "output_type": "stream",
     "text": [
      " * sqlite:///D:/GitHub/nvidia-project/nvidia_database.db\n",
      "Done.\n"
     ]
    },
    {
     "data": {
      "text/html": [
       "<table>\n",
       "    <thead>\n",
       "        <tr>\n",
       "            <th>product_name</th>\n",
       "            <th>price</th>\n",
       "        </tr>\n",
       "    </thead>\n",
       "    <tbody>\n",
       "        <tr>\n",
       "            <td>RTX 4090</td>\n",
       "            <td>1599.99</td>\n",
       "        </tr>\n",
       "        <tr>\n",
       "            <td>RTX 4080</td>\n",
       "            <td>1199.99</td>\n",
       "        </tr>\n",
       "        <tr>\n",
       "            <td>RTX 4070</td>\n",
       "            <td>599.99</td>\n",
       "        </tr>\n",
       "        <tr>\n",
       "            <td>Jetson Nano</td>\n",
       "            <td>99.99</td>\n",
       "        </tr>\n",
       "        <tr>\n",
       "            <td>Jetson AGX Orin</td>\n",
       "            <td>1999.99</td>\n",
       "        </tr>\n",
       "        <tr>\n",
       "            <td>DGX Station</td>\n",
       "            <td>8999.99</td>\n",
       "        </tr>\n",
       "        <tr>\n",
       "            <td>A100 Tensor Core</td>\n",
       "            <td>14999.99</td>\n",
       "        </tr>\n",
       "        <tr>\n",
       "            <td>H100 Tensor Core</td>\n",
       "            <td>19999.99</td>\n",
       "        </tr>\n",
       "        <tr>\n",
       "            <td>GeForce GTX 1660</td>\n",
       "            <td>279.99</td>\n",
       "        </tr>\n",
       "        <tr>\n",
       "            <td>Titan V</td>\n",
       "            <td>2999.99</td>\n",
       "        </tr>\n",
       "        <tr>\n",
       "            <td>GeForce RTX 3060</td>\n",
       "            <td>349.99</td>\n",
       "        </tr>\n",
       "        <tr>\n",
       "            <td>GeForce GTX 1080</td>\n",
       "            <td>499.99</td>\n",
       "        </tr>\n",
       "        <tr>\n",
       "            <td>NVIDIA V100</td>\n",
       "            <td>8000.0</td>\n",
       "        </tr>\n",
       "        <tr>\n",
       "            <td>NVIDIA A40</td>\n",
       "            <td>2500.0</td>\n",
       "        </tr>\n",
       "        <tr>\n",
       "            <td>NVIDIA Quadro GV100</td>\n",
       "            <td>8999.0</td>\n",
       "        </tr>\n",
       "    </tbody>\n",
       "</table>"
      ],
      "text/plain": [
       "[('RTX 4090', 1599.99),\n",
       " ('RTX 4080', 1199.99),\n",
       " ('RTX 4070', 599.99),\n",
       " ('Jetson Nano', 99.99),\n",
       " ('Jetson AGX Orin', 1999.99),\n",
       " ('DGX Station', 8999.99),\n",
       " ('A100 Tensor Core', 14999.99),\n",
       " ('H100 Tensor Core', 19999.99),\n",
       " ('GeForce GTX 1660', 279.99),\n",
       " ('Titan V', 2999.99),\n",
       " ('GeForce RTX 3060', 349.99),\n",
       " ('GeForce GTX 1080', 499.99),\n",
       " ('NVIDIA V100', 8000.0),\n",
       " ('NVIDIA A40', 2500.0),\n",
       " ('NVIDIA Quadro GV100', 8999.0)]"
      ]
     },
     "execution_count": 33,
     "metadata": {},
     "output_type": "execute_result"
    }
   ],
   "source": [
    "%%sql\n",
    "\n",
    "SELECT product_name, price FROM products;"
   ]
  },
  {
   "cell_type": "code",
   "execution_count": 43,
   "metadata": {},
   "outputs": [
    {
     "name": "stdout",
     "output_type": "stream",
     "text": [
      " * sqlite:///D:/GitHub/nvidia-project/nvidia_database.db\n",
      "Done.\n"
     ]
    },
    {
     "data": {
      "text/html": [
       "<table>\n",
       "    <thead>\n",
       "        <tr>\n",
       "            <th>product_name</th>\n",
       "            <th>category</th>\n",
       "            <th>price</th>\n",
       "        </tr>\n",
       "    </thead>\n",
       "    <tbody>\n",
       "        <tr>\n",
       "            <td>RTX 4090</td>\n",
       "            <td>GPU</td>\n",
       "            <td>1599.99</td>\n",
       "        </tr>\n",
       "        <tr>\n",
       "            <td>RTX 4080</td>\n",
       "            <td>GPU</td>\n",
       "            <td>1199.99</td>\n",
       "        </tr>\n",
       "        <tr>\n",
       "            <td>Jetson AGX Orin</td>\n",
       "            <td>AI Accelerator</td>\n",
       "            <td>1999.99</td>\n",
       "        </tr>\n",
       "        <tr>\n",
       "            <td>DGX Station</td>\n",
       "            <td>Server</td>\n",
       "            <td>8999.99</td>\n",
       "        </tr>\n",
       "        <tr>\n",
       "            <td>A100 Tensor Core</td>\n",
       "            <td>AI Accelerator</td>\n",
       "            <td>14999.99</td>\n",
       "        </tr>\n",
       "        <tr>\n",
       "            <td>H100 Tensor Core</td>\n",
       "            <td>AI Accelerator</td>\n",
       "            <td>19999.99</td>\n",
       "        </tr>\n",
       "        <tr>\n",
       "            <td>Titan V</td>\n",
       "            <td>GPU</td>\n",
       "            <td>2999.99</td>\n",
       "        </tr>\n",
       "        <tr>\n",
       "            <td>NVIDIA V100</td>\n",
       "            <td>AI Accelerator</td>\n",
       "            <td>8000.0</td>\n",
       "        </tr>\n",
       "        <tr>\n",
       "            <td>NVIDIA A40</td>\n",
       "            <td>AI Accelerator</td>\n",
       "            <td>2500.0</td>\n",
       "        </tr>\n",
       "        <tr>\n",
       "            <td>NVIDIA Quadro GV100</td>\n",
       "            <td>GPU</td>\n",
       "            <td>8999.0</td>\n",
       "        </tr>\n",
       "    </tbody>\n",
       "</table>"
      ],
      "text/plain": [
       "[('RTX 4090', 'GPU', 1599.99),\n",
       " ('RTX 4080', 'GPU', 1199.99),\n",
       " ('Jetson AGX Orin', 'AI Accelerator', 1999.99),\n",
       " ('DGX Station', 'Server', 8999.99),\n",
       " ('A100 Tensor Core', 'AI Accelerator', 14999.99),\n",
       " ('H100 Tensor Core', 'AI Accelerator', 19999.99),\n",
       " ('Titan V', 'GPU', 2999.99),\n",
       " ('NVIDIA V100', 'AI Accelerator', 8000.0),\n",
       " ('NVIDIA A40', 'AI Accelerator', 2500.0),\n",
       " ('NVIDIA Quadro GV100', 'GPU', 8999.0)]"
      ]
     },
     "execution_count": 43,
     "metadata": {},
     "output_type": "execute_result"
    }
   ],
   "source": [
    "%%sql\n",
    "\n",
    "SELECT product_name, category, price FROM products\n",
    "WHERE price >= 1000;"
   ]
  },
  {
   "cell_type": "code",
   "execution_count": 45,
   "metadata": {},
   "outputs": [
    {
     "name": "stdout",
     "output_type": "stream",
     "text": [
      " * sqlite:///D:/GitHub/nvidia-project/nvidia_database.db\n",
      "Done.\n"
     ]
    },
    {
     "data": {
      "text/html": [
       "<table>\n",
       "    <thead>\n",
       "        <tr>\n",
       "            <th>product_name</th>\n",
       "            <th>category</th>\n",
       "        </tr>\n",
       "    </thead>\n",
       "    <tbody>\n",
       "        <tr>\n",
       "            <td>Jetson Nano</td>\n",
       "            <td>AI Accelerator</td>\n",
       "        </tr>\n",
       "        <tr>\n",
       "            <td>Jetson AGX Orin</td>\n",
       "            <td>AI Accelerator</td>\n",
       "        </tr>\n",
       "        <tr>\n",
       "            <td>A100 Tensor Core</td>\n",
       "            <td>AI Accelerator</td>\n",
       "        </tr>\n",
       "        <tr>\n",
       "            <td>H100 Tensor Core</td>\n",
       "            <td>AI Accelerator</td>\n",
       "        </tr>\n",
       "        <tr>\n",
       "            <td>NVIDIA V100</td>\n",
       "            <td>AI Accelerator</td>\n",
       "        </tr>\n",
       "        <tr>\n",
       "            <td>NVIDIA A40</td>\n",
       "            <td>AI Accelerator</td>\n",
       "        </tr>\n",
       "    </tbody>\n",
       "</table>"
      ],
      "text/plain": [
       "[('Jetson Nano', 'AI Accelerator'),\n",
       " ('Jetson AGX Orin', 'AI Accelerator'),\n",
       " ('A100 Tensor Core', 'AI Accelerator'),\n",
       " ('H100 Tensor Core', 'AI Accelerator'),\n",
       " ('NVIDIA V100', 'AI Accelerator'),\n",
       " ('NVIDIA A40', 'AI Accelerator')]"
      ]
     },
     "execution_count": 45,
     "metadata": {},
     "output_type": "execute_result"
    }
   ],
   "source": [
    "%%sql\n",
    "\n",
    "SELECT product_name, category FROM products\n",
    "WHERE category = 'AI Accelerator';"
   ]
  },
  {
   "cell_type": "code",
   "execution_count": 47,
   "metadata": {},
   "outputs": [
    {
     "name": "stdout",
     "output_type": "stream",
     "text": [
      " * sqlite:///D:/GitHub/nvidia-project/nvidia_database.db\n",
      "Done.\n"
     ]
    },
    {
     "data": {
      "text/html": [
       "<table>\n",
       "    <thead>\n",
       "        <tr>\n",
       "            <th>product_name</th>\n",
       "            <th>category</th>\n",
       "            <th>price</th>\n",
       "        </tr>\n",
       "    </thead>\n",
       "    <tbody>\n",
       "        <tr>\n",
       "            <td>NVIDIA Quadro GV100</td>\n",
       "            <td>GPU</td>\n",
       "            <td>8999.0</td>\n",
       "        </tr>\n",
       "    </tbody>\n",
       "</table>"
      ],
      "text/plain": [
       "[('NVIDIA Quadro GV100', 'GPU', 8999.0)]"
      ]
     },
     "execution_count": 47,
     "metadata": {},
     "output_type": "execute_result"
    }
   ],
   "source": [
    "%%sql\n",
    "\n",
    "SELECT product_name, category, price FROM products\n",
    "WHERE product_name LIKE '%Quadro%';"
   ]
  },
  {
   "cell_type": "code",
   "execution_count": 12,
   "metadata": {},
   "outputs": [
    {
     "name": "stdout",
     "output_type": "stream",
     "text": [
      " * sqlite:///D:/GitHub/nvidia-project/nvidia_database.db\n",
      "Done.\n"
     ]
    },
    {
     "data": {
      "text/html": [
       "<table>\n",
       "    <thead>\n",
       "        <tr>\n",
       "            <th>name</th>\n",
       "            <th>seq</th>\n",
       "        </tr>\n",
       "    </thead>\n",
       "    <tbody>\n",
       "        <tr>\n",
       "            <td>products</td>\n",
       "            <td>15</td>\n",
       "        </tr>\n",
       "        <tr>\n",
       "            <td>customers</td>\n",
       "            <td>20</td>\n",
       "        </tr>\n",
       "        <tr>\n",
       "            <td>sales</td>\n",
       "            <td>100</td>\n",
       "        </tr>\n",
       "        <tr>\n",
       "            <td>suppliers</td>\n",
       "            <td>50</td>\n",
       "        </tr>\n",
       "        <tr>\n",
       "            <td>supply_chain</td>\n",
       "            <td>100</td>\n",
       "        </tr>\n",
       "        <tr>\n",
       "            <td>departments</td>\n",
       "            <td>5</td>\n",
       "        </tr>\n",
       "        <tr>\n",
       "            <td>employees</td>\n",
       "            <td>30</td>\n",
       "        </tr>\n",
       "        <tr>\n",
       "            <td>projects</td>\n",
       "            <td>10</td>\n",
       "        </tr>\n",
       "    </tbody>\n",
       "</table>"
      ],
      "text/plain": [
       "[('products', 15),\n",
       " ('customers', 20),\n",
       " ('sales', 100),\n",
       " ('suppliers', 50),\n",
       " ('supply_chain', 100),\n",
       " ('departments', 5),\n",
       " ('employees', 30),\n",
       " ('projects', 10)]"
      ]
     },
     "execution_count": 12,
     "metadata": {},
     "output_type": "execute_result"
    }
   ],
   "source": [
    "%%sql\n",
    "SELECT * FROM sqlite_sequence"
   ]
  }
 ],
 "metadata": {
  "kernelspec": {
   "display_name": "base",
   "language": "python",
   "name": "python3"
  },
  "language_info": {
   "codemirror_mode": {
    "name": "ipython",
    "version": 3
   },
   "file_extension": ".py",
   "mimetype": "text/x-python",
   "name": "python",
   "nbconvert_exporter": "python",
   "pygments_lexer": "ipython3",
   "version": "3.9.13"
  }
 },
 "nbformat": 4,
 "nbformat_minor": 2
}
