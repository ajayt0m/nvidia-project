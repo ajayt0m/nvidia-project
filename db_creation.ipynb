{
 "cells": [
  {
   "cell_type": "code",
   "execution_count": 2,
   "metadata": {},
   "outputs": [
    {
     "name": "stdout",
     "output_type": "stream",
     "text": [
      "Collecting faker\n",
      "  Downloading Faker-35.0.0-py3-none-any.whl (1.9 MB)\n",
      "     ---------------------------------------- 1.9/1.9 MB 20.3 MB/s eta 0:00:00\n",
      "Requirement already satisfied: python-dateutil>=2.4 in d:\\softwares\\anaconda\\lib\\site-packages (from faker) (2.8.2)\n",
      "Requirement already satisfied: typing-extensions in d:\\softwares\\anaconda\\lib\\site-packages (from faker) (4.3.0)\n",
      "Requirement already satisfied: six>=1.5 in d:\\softwares\\anaconda\\lib\\site-packages (from python-dateutil>=2.4->faker) (1.16.0)\n",
      "Installing collected packages: faker\n",
      "Successfully installed faker-35.0.0\n",
      "Note: you may need to restart the kernel to use updated packages.\n"
     ]
    }
   ],
   "source": [
    "pip install faker"
   ]
  },
  {
   "cell_type": "code",
   "execution_count": 3,
   "metadata": {},
   "outputs": [],
   "source": [
    "import sqlite3\n",
    "import random\n",
    "from faker import Faker"
   ]
  },
  {
   "cell_type": "code",
   "execution_count": 4,
   "metadata": {},
   "outputs": [],
   "source": [
    "# Create a connection to SQLite database\n",
    "conn = sqlite3.connect('nvidia_database.db')\n",
    "cursor = conn.cursor()"
   ]
  },
  {
   "cell_type": "code",
   "execution_count": 5,
   "metadata": {},
   "outputs": [],
   "source": [
    "# 1. Create tables\n",
    "cursor.executescript('''\n",
    "-- Create products table\n",
    "CREATE TABLE IF NOT EXISTS products (\n",
    "    product_id INTEGER PRIMARY KEY AUTOINCREMENT,\n",
    "    product_name TEXT NOT NULL,\n",
    "    category TEXT NOT NULL,\n",
    "    release_date DATE,\n",
    "    price REAL\n",
    ");\n",
    "\n",
    "-- Create customers table\n",
    "CREATE TABLE IF NOT EXISTS customers (\n",
    "    customer_id INTEGER PRIMARY KEY AUTOINCREMENT,\n",
    "    customer_name TEXT NOT NULL,\n",
    "    industry TEXT,\n",
    "    contact_email TEXT,\n",
    "    contact_phone TEXT\n",
    ");\n",
    "\n",
    "-- Create sales table\n",
    "CREATE TABLE IF NOT EXISTS sales (\n",
    "    sale_id INTEGER PRIMARY KEY AUTOINCREMENT,\n",
    "    product_id INTEGER,\n",
    "    customer_id INTEGER,\n",
    "    sale_date DATE,\n",
    "    region TEXT,\n",
    "    quantity_sold INTEGER,\n",
    "    revenue REAL,\n",
    "    FOREIGN KEY (product_id) REFERENCES products (product_id),\n",
    "    FOREIGN KEY (customer_id) REFERENCES customers (customer_id)\n",
    ");\n",
    "\n",
    "-- Create suppliers table\n",
    "CREATE TABLE IF NOT EXISTS suppliers (\n",
    "    supplier_id INTEGER PRIMARY KEY AUTOINCREMENT,\n",
    "    supplier_name TEXT NOT NULL,\n",
    "    material_supplied TEXT NOT NULL,\n",
    "    contact_email TEXT\n",
    ");\n",
    "\n",
    "-- Create supply_chain table\n",
    "CREATE TABLE IF NOT EXISTS supply_chain (\n",
    "    supply_chain_id INTEGER PRIMARY KEY AUTOINCREMENT,\n",
    "    supplier_id INTEGER,\n",
    "    product_id INTEGER,\n",
    "    supply_date DATE,\n",
    "    quantity_supplied INTEGER,\n",
    "    FOREIGN KEY (supplier_id) REFERENCES suppliers (supplier_id),\n",
    "    FOREIGN KEY (product_id) REFERENCES products (product_id)\n",
    ");\n",
    "\n",
    "-- Create departments table\n",
    "CREATE TABLE IF NOT EXISTS departments (\n",
    "    department_id INTEGER PRIMARY KEY AUTOINCREMENT,\n",
    "    department_name TEXT NOT NULL,\n",
    "    location TEXT\n",
    ");\n",
    "\n",
    "-- Create employees table\n",
    "CREATE TABLE IF NOT EXISTS employees (\n",
    "    employee_id INTEGER PRIMARY KEY AUTOINCREMENT,\n",
    "    first_name TEXT NOT NULL,\n",
    "    last_name TEXT NOT NULL,\n",
    "    department_id INTEGER,\n",
    "    hire_date DATE,\n",
    "    salary REAL,\n",
    "    FOREIGN KEY (department_id) REFERENCES departments (department_id)\n",
    ");\n",
    "\n",
    "-- Create projects table\n",
    "CREATE TABLE IF NOT EXISTS projects (\n",
    "    project_id INTEGER PRIMARY KEY AUTOINCREMENT,\n",
    "    project_name TEXT NOT NULL,\n",
    "    department_id INTEGER,\n",
    "    start_date DATE,\n",
    "    end_date DATE,\n",
    "    budget REAL,\n",
    "    FOREIGN KEY (department_id) REFERENCES departments (department_id)\n",
    ");\n",
    "''')\n",
    "\n",
    "# Commit table creation\n",
    "conn.commit()"
   ]
  },
  {
   "cell_type": "code",
   "execution_count": 6,
   "metadata": {},
   "outputs": [],
   "source": [
    "# 2. Populate tables with sample data\n",
    "\n",
    "# Create an instance of Faker for generating random data\n",
    "fake = Faker()\n",
    "\n",
    "# Define sample data for each table\n",
    "\n",
    "# Create 15 products\n",
    "products_data = [\n",
    "    ('RTX 4090', 'GPU', '2023-01-15', 1599.99),\n",
    "    ('RTX 4080', 'GPU', '2022-11-16', 1199.99),\n",
    "    ('RTX 4070', 'GPU', '2023-03-08', 599.99),\n",
    "    ('Jetson Nano', 'AI Accelerator', '2022-05-20', 99.99),\n",
    "    ('Jetson AGX Orin', 'AI Accelerator', '2023-06-10', 1999.99),\n",
    "    ('DGX Station', 'Server', '2023-08-01', 8999.99),\n",
    "    ('A100 Tensor Core', 'AI Accelerator', '2021-07-15', 14999.99),\n",
    "    ('H100 Tensor Core', 'AI Accelerator', '2022-10-10', 19999.99),\n",
    "    ('GeForce GTX 1660', 'GPU', '2019-02-22', 279.99),\n",
    "    ('Titan V', 'GPU', '2017-12-07', 2999.99),\n",
    "    ('GeForce RTX 3060', 'GPU', '2021-10-01', 349.99),\n",
    "    ('GeForce GTX 1080', 'GPU', '2016-05-27', 499.99),\n",
    "    ('NVIDIA V100', 'AI Accelerator', '2017-06-10', 8000.00),\n",
    "    ('NVIDIA A40', 'AI Accelerator', '2020-09-15', 2500.00),\n",
    "    ('NVIDIA Quadro GV100', 'GPU', '2018-04-15', 8999.00)\n",
    "]\n",
    "\n",
    "# Create 20 customers\n",
    "customers_data = [(fake.company(), fake.random_element(elements=('Gaming', 'Research', 'Data Centers', 'AI', 'Cloud Services')), fake.email(), fake.phone_number()) for _ in range(20)]\n",
    "\n",
    "# Create 100 sales\n",
    "sales_data = [(random.randint(1, 15), random.randint(1, 20), fake.date_this_year(), random.choice(['North America', 'Europe', 'Asia', 'Africa']), random.randint(10, 500), round(random.uniform(10000, 200000), 2)) for _ in range(100)]\n",
    "\n",
    "# Create 50 suppliers\n",
    "suppliers_data = [(fake.company(), fake.word(), fake.email()) for _ in range(50)]\n",
    "\n",
    "# Supply chain data should be proportional to sales data (100 sales => 100 supply chain records)\n",
    "supply_chain_data = [(random.randint(1, 50), random.randint(1, 15), fake.date_this_year(), random.randint(1000, 5000)) for _ in range(100)]\n",
    "\n",
    "# Create 5 departments (same as before)\n",
    "departments_data = [\n",
    "    ('R&D', 'Santa Clara'),\n",
    "    ('Sales', 'New York'),\n",
    "    ('Operations', 'Austin'),\n",
    "    ('Marketing', 'Los Angeles'),\n",
    "    ('HR', 'Seattle')\n",
    "]\n",
    "\n",
    "# Create 30 employees\n",
    "employees_data = [(fake.first_name(), fake.last_name(), random.randint(1, 5), fake.date_this_decade(), round(random.uniform(50000, 150000), 2)) for _ in range(30)]\n",
    "\n",
    "# Create 10 projects\n",
    "projects_data = [(fake.bs(), random.randint(1, 5), fake.date_this_year(), fake.date_this_year(), round(random.uniform(100000, 1000000), 2)) for _ in range(10)]"
   ]
  },
  {
   "cell_type": "code",
   "execution_count": 7,
   "metadata": {},
   "outputs": [
    {
     "data": {
      "text/plain": [
       "<sqlite3.Cursor at 0x24266688340>"
      ]
     },
     "execution_count": 7,
     "metadata": {},
     "output_type": "execute_result"
    }
   ],
   "source": [
    "# 3. Insert data into tables\n",
    "cursor.executemany('INSERT INTO products (product_name, category, release_date, price) VALUES (?, ?, ?, ?)', products_data)\n",
    "cursor.executemany('INSERT INTO customers (customer_name, industry, contact_email, contact_phone) VALUES (?, ?, ?, ?)', customers_data)\n",
    "cursor.executemany('INSERT INTO sales (product_id, customer_id, sale_date, region, quantity_sold, revenue) VALUES (?, ?, ?, ?, ?, ?)', sales_data)\n",
    "cursor.executemany('INSERT INTO suppliers (supplier_name, material_supplied, contact_email) VALUES (?, ?, ?)', suppliers_data)\n",
    "cursor.executemany('INSERT INTO supply_chain (supplier_id, product_id, supply_date, quantity_supplied) VALUES (?, ?, ?, ?)', supply_chain_data)\n",
    "cursor.executemany('INSERT INTO departments (department_name, location) VALUES (?, ?)', departments_data)\n",
    "cursor.executemany('INSERT INTO employees (first_name, last_name, department_id, hire_date, salary) VALUES (?, ?, ?, ?, ?)', employees_data)\n",
    "cursor.executemany('INSERT INTO projects (project_name, department_id, start_date, end_date, budget) VALUES (?, ?, ?, ?, ?)', projects_data)"
   ]
  },
  {
   "cell_type": "code",
   "execution_count": 8,
   "metadata": {},
   "outputs": [
    {
     "name": "stdout",
     "output_type": "stream",
     "text": [
      "Database populated successfully!\n"
     ]
    }
   ],
   "source": [
    "# Commit changes and close the connection\n",
    "conn.commit()\n",
    "conn.close()\n",
    "\n",
    "print(\"Database populated successfully!\")"
   ]
  },
  {
   "cell_type": "code",
   "execution_count": 9,
   "metadata": {},
   "outputs": [
    {
     "name": "stdout",
     "output_type": "stream",
     "text": [
      "C:\\Users\\imaja\\AppData\\Local\\Programs\\Microsoft VS Code\n"
     ]
    }
   ],
   "source": [
    "import os\n",
    "print(os.getcwd())"
   ]
  }
 ],
 "metadata": {
  "kernelspec": {
   "display_name": "base",
   "language": "python",
   "name": "python3"
  },
  "language_info": {
   "codemirror_mode": {
    "name": "ipython",
    "version": 3
   },
   "file_extension": ".py",
   "mimetype": "text/x-python",
   "name": "python",
   "nbconvert_exporter": "python",
   "pygments_lexer": "ipython3",
   "version": "3.9.13"
  }
 },
 "nbformat": 4,
 "nbformat_minor": 2
}
